{
  "nbformat": 4,
  "nbformat_minor": 0,
  "metadata": {
    "colab": {
      "name": "Project.ipynb",
      "version": "0.3.2",
      "provenance": [],
      "collapsed_sections": []
    },
    "kernelspec": {
      "name": "python3",
      "display_name": "Python 3"
    }
  },
  "cells": [
    {
      "cell_type": "markdown",
      "metadata": {
        "id": "ggxfBnSF5O0n",
        "colab_type": "text"
      },
      "source": [
        "# Final Project"
      ]
    },
    {
      "cell_type": "markdown",
      "metadata": {
        "id": "ffnO6ugE5TU3",
        "colab_type": "text"
      },
      "source": [
        "## Part 1 - Imports"
      ]
    },
    {
      "cell_type": "code",
      "metadata": {
        "id": "J2y8YY5i5OIu",
        "colab_type": "code",
        "colab": {}
      },
      "source": [
        "import WTF"
      ],
      "execution_count": 0,
      "outputs": []
    },
    {
      "cell_type": "markdown",
      "metadata": {
        "id": "pyajJ8gs5eNY",
        "colab_type": "text"
      },
      "source": [
        "## Part 2 - The data"
      ]
    },
    {
      "cell_type": "code",
      "metadata": {
        "id": "Heji_6YA5gg4",
        "colab_type": "code",
        "colab": {}
      },
      "source": [
        ""
      ],
      "execution_count": 0,
      "outputs": []
    },
    {
      "cell_type": "markdown",
      "metadata": {
        "id": "I_B76OFa5g-j",
        "colab_type": "text"
      },
      "source": [
        "## Part 3 - The CNN"
      ]
    },
    {
      "cell_type": "code",
      "metadata": {
        "id": "NAGljrhC5lTc",
        "colab_type": "code",
        "colab": {}
      },
      "source": [
        ""
      ],
      "execution_count": 0,
      "outputs": []
    },
    {
      "cell_type": "markdown",
      "metadata": {
        "id": "FR7MK7sW5ktb",
        "colab_type": "text"
      },
      "source": [
        "## Part 4 - Training"
      ]
    },
    {
      "cell_type": "code",
      "metadata": {
        "id": "a0mO6bI95pKG",
        "colab_type": "code",
        "colab": {}
      },
      "source": [
        ""
      ],
      "execution_count": 0,
      "outputs": []
    },
    {
      "cell_type": "markdown",
      "metadata": {
        "id": "3IgCAUWP5pa_",
        "colab_type": "text"
      },
      "source": [
        "## Part 5 - Test"
      ]
    },
    {
      "cell_type": "code",
      "metadata": {
        "id": "nX27L0-p5scY",
        "colab_type": "code",
        "colab": {}
      },
      "source": [
        ""
      ],
      "execution_count": 0,
      "outputs": []
    },
    {
      "cell_type": "markdown",
      "metadata": {
        "id": "iqKSEHq15swn",
        "colab_type": "text"
      },
      "source": [
        "## Part 6 - Conclusion"
      ]
    },
    {
      "cell_type": "code",
      "metadata": {
        "id": "my2hkugY5w_X",
        "colab_type": "code",
        "colab": {}
      },
      "source": [
        ""
      ],
      "execution_count": 0,
      "outputs": []
    }
  ]
}