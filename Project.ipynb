{
  "nbformat": 4,
  "nbformat_minor": 0,
  "metadata": {
    "colab": {
      "name": "Project.ipynb",
      "version": "0.3.2",
      "provenance": [],
      "collapsed_sections": []
    },
    "kernelspec": {
      "name": "python3",
      "display_name": "Python 3"
    }
  },
  "cells": [
    {
      "cell_type": "markdown",
      "metadata": {
        "id": "ggxfBnSF5O0n",
        "colab_type": "text"
      },
      "source": [
        "# Final Project"
      ]
    },
    {
      "cell_type": "markdown",
      "metadata": {
        "id": "ffnO6ugE5TU3",
        "colab_type": "text"
      },
      "source": [
        "## Imports"
      ]
    },
    {
      "cell_type": "code",
      "metadata": {
        "id": "J2y8YY5i5OIu",
        "colab_type": "code",
        "colab": {}
      },
      "source": [
        "import math\n",
        "from fractions import Fraction\n",
        "import numbers"
      ],
      "execution_count": 0,
      "outputs": []
    },
    {
      "cell_type": "markdown",
      "metadata": {
        "id": "pyajJ8gs5eNY",
        "colab_type": "text"
      },
      "source": [
        "## The data"
      ]
    },
    {
      "cell_type": "code",
      "metadata": {
        "id": "Heji_6YA5gg4",
        "colab_type": "code",
        "colab": {}
      },
      "source": [
        ""
      ],
      "execution_count": 0,
      "outputs": []
    },
    {
      "cell_type": "markdown",
      "metadata": {
        "id": "TQahjFhnrzz0",
        "colab_type": "text"
      },
      "source": [
        "## Helper functions"
      ]
    },
    {
      "cell_type": "code",
      "metadata": {
        "id": "iFDLyS1qr3ml",
        "colab_type": "code",
        "outputId": "6a33b48e-1919-46de-c77a-584f978160c3",
        "colab": {
          "base_uri": "https://localhost:8080/",
          "height": 34
        }
      },
      "source": [
        "# Set of operation O as defined in the article\n",
        "def Id(s):\n",
        "  return s\n",
        "\n",
        "\n",
        "def Add(a, b):\n",
        "    if isinstance(a, numbers.Number) and isinstance(b, numbers.Number):\n",
        "        return a + b \n",
        "    return None\n",
        "\n",
        "  \n",
        "def Subtract(a, b):\n",
        "    if isinstance(a, numbers.Number) and isinstance(b, numbers.Number):\n",
        "        return a - b\n",
        "    return None\n",
        "\n",
        "  \n",
        "def Multiply(a, b):\n",
        "    if isinstance(a, numbers.Number) and isinstance(b, numbers.Number):\n",
        "        return a * b\n",
        "    return None\n",
        "  \n",
        "  \n",
        "def Divide(a, b):\n",
        "    if isinstance(a, numbers.Number) and isinstance(b, numbers.Number) and b != 0:\n",
        "        return a / b\n",
        "    return None\n",
        "  \n",
        "    \n",
        "def Power(a, b):\n",
        "    if isinstance(a, numbers.Number) and isinstance(b, numbers.Number):\n",
        "        try:\n",
        "            return a ** b\n",
        "        except: pass\n",
        "    return None\n",
        "\n",
        "  \n",
        "def Log(a):\n",
        "    try:\n",
        "        return math.log(a)\n",
        "    except:\n",
        "        return None\n",
        "\n",
        "      \n",
        "def Sqrt(a):\n",
        "    try:\n",
        "        return math.sqrt(a)\n",
        "    except:\n",
        "        return None\n",
        "    \n",
        "    \n",
        "def Sine(a):\n",
        "    try:\n",
        "        return round(math.sin(Deg_to_Rad(a)), 3)\n",
        "    except:\n",
        "        return None\n",
        "    \n",
        "    \n",
        "def Cosine(a):\n",
        "    try:\n",
        "        return round(math.cos(Deg_to_Rad(a)), 3)\n",
        "    except:\n",
        "        return None\n",
        "    \n",
        "    \n",
        "def Tangent(a):\n",
        "    try:\n",
        "        return round(math.tan(Deg_to_Rad(a)), 3)\n",
        "    except:\n",
        "        return None\n",
        "\n",
        "      \n",
        "def Rad_to_Deg(a):\n",
        "    try:\n",
        "        return math.degrees(a)\n",
        "    except:\n",
        "        return None\n",
        "    \n",
        "    \n",
        "def Deg_to_Rad(a):\n",
        "    try:\n",
        "        return math.radians(a)\n",
        "    except:\n",
        "        return None\n",
        "    \n",
        "    \n",
        "def Factorial(a):\n",
        "    try:\n",
        "        res = 1\n",
        "        while a > 1:\n",
        "          res *= a\n",
        "          a -= 1\n",
        "        return res\n",
        "    except:\n",
        "        return None\n",
        "    \n",
        "    \n",
        "def Choose(a, b):\n",
        "    try:\n",
        "        return (Factorial(a)) / (Factorial(b) * Factorial(a-b))\n",
        "    except:\n",
        "        return None\n",
        "\n",
        "\n",
        "def Str_to_Float(s):\n",
        "  return float(s)\n",
        "\n",
        "\n",
        "def Float_to_Str(a):\n",
        "  return str(a)\n",
        "\n",
        "\n",
        "def Str_to_Frac(s):\n",
        "  return float(s.split('/')[0]) / float(s.split('/')[1])\n",
        "\n",
        "\n",
        "def Frac_to_Str(a):\n",
        "  return str(Fraction(a))\n",
        "\n",
        "\n",
        "def LongNumber_to_Str(a):\n",
        "  str_a = str(a)\n",
        "  res = ''\n",
        "  index = len(str_a)-1\n",
        "  pos = 0\n",
        "  while index >= 0:\n",
        "    if pos > 0 and pos % 3 == 0:\n",
        "      res += ','\n",
        "    res += str_a[index]\n",
        "    index -= 1\n",
        "    pos += 1\n",
        "  return res[::-1]\n",
        "\n",
        "\n",
        "def Str_to_LongNumber(s):\n",
        "  return float(s.replace('.', '').replace(',', ''))\n",
        "\n",
        "\n",
        "def Check(s, options):\n",
        "  check_dict = {0: \"A\", 1: \"B\", 2: \"C\", 3: \"D\", 4: \"E\"}\n",
        "  contains = []\n",
        "  for option in options:\n",
        "    if s in option:\n",
        "      contains.append(check_dict[options.index(option)])\n",
        "  \n",
        "  if len(contains) != 1:\n",
        "    return None\n",
        "  else:\n",
        "    return contains[0]\n",
        "\n",
        "  \n",
        "def apply(f, *args):\n",
        "  if len(args) == argc[f]:\n",
        "    return f(*args)\n",
        "  return None\n",
        "  \n",
        "  \n",
        "# O and argc for the operations in O\n",
        "O = [Id, Add, Subtract, Multiply, Divide, \n",
        "     Power, Log, Sqrt, Sine, Cosine, Tangent, \n",
        "     Factorial, Choose, Rad_to_Deg, Deg_to_Rad, \n",
        "     Str_to_Float, Float_to_Str, Str_to_Frac, Frac_to_Str,\n",
        "     LongNumber_to_Str, Str_to_LongNumber, Check]\n",
        "argc = {Id: 1, Add: 2, Subtract: 2, Multiply: 2, Divide: 2, \n",
        "        Power: 2, Log: 1, Sqrt: 1, Sine: 1, Cosine: 1, Tangent: 1,\n",
        "       Factorial: 1, Choose: 2, Rad_to_Deg: 1, Deg_to_Rad: 1, \n",
        "       Str_to_Float: 1, Float_to_Str: 1, Str_to_Frac: 1, Frac_to_Str: 1,\n",
        "       LongNumber_to_Str: 1, Str_to_LongNumber: 1, Check: 2}\n",
        "  \n",
        "  \n",
        "# Some tests\n",
        "assert(apply(Add, 1, 2) == 3)\n",
        "assert(apply(Subtract, 1, 2) == -1)\n",
        "assert(apply(Multiply, 1, 2) == 2)\n",
        "assert(apply(Divide, 1, 2) == 1/2)\n",
        "assert(apply(Power, 1, 2) == 1)\n",
        "assert(apply(Id, 'blat') == 'blat')\n",
        "assert(argc[Log] == 1)\n",
        "assert(argc[Add] == 2)\n",
        "assert(Str_to_LongNumber('1,000,000') == 1000000)\n",
        "assert(Str_to_LongNumber('1,000') == 1000)\n",
        "assert(Str_to_LongNumber('100') == 100)\n",
        "assert(Factorial(0) == 1)\n",
        "assert(Factorial(1) == 1)\n",
        "assert(Factorial(5) == 120)\n",
        "assert(Str_to_Frac('3/4') == 3/4)\n",
        "assert(Frac_to_Str(3/4) == '3/4')\n",
        "assert(LongNumber_to_Str(1000000) == '1,000,000')\n",
        "assert(LongNumber_to_Str(1000) == '1,000')\n",
        "assert(LongNumber_to_Str(10000) == '10,000')\n",
        "assert(LongNumber_to_Str(100) == '100')\n",
        "assert(Cosine(180) == -1)\n",
        "assert(Cosine(30) == 0.866)\n",
        "assert(Cosine(90) == 0)\n",
        "assert(Cosine(0) == 1)\n",
        "assert(Tangent(180) == 0)\n",
        "assert(Tangent(45) == 1)\n",
        "assert(Tangent(30) == 0.577)\n",
        "assert(Sine(180) == 0)\n",
        "assert(Sine(90) == 1)\n",
        "assert(Sine(45) == 0.707)\n",
        "assert(Sine(30) == 0.5)\n",
        "assert(Log(math.e**6) == 6)\n",
        "assert(Choose(3, 2) == 3)\n",
        "assert(Choose(52, 2) == 1326)\n",
        "assert(Check('13', [\"A ) 7\", \"B ) 9\", \"C ) 13\", \"D ) 27\", \"E ) 45\"]) == 'C')\n",
        "assert(Check('45', [\"A ) 7\", \"B ) 9\", \"C ) 13\", \"D ) 27\", \"E ) 45\"]) == 'E')\n",
        "assert(Check('0', [\"A ) 7\", \"B ) 9\", \"C ) 13\", \"D ) 27\", \"E ) 45\"]) == None)\n",
        "assert(Check('7', [\"A ) 7\", \"B ) 9\", \"C ) 7\", \"D ) 27\", \"E ) 45\"]) == None)\n",
        "\n",
        "print(\"Yay!\")\n"
      ],
      "execution_count": 23,
      "outputs": [
        {
          "output_type": "stream",
          "text": [
            "Yay!\n"
          ],
          "name": "stdout"
        }
      ]
    },
    {
      "cell_type": "markdown",
      "metadata": {
        "id": "I_B76OFa5g-j",
        "colab_type": "text"
      },
      "source": [
        "## The Network"
      ]
    },
    {
      "cell_type": "code",
      "metadata": {
        "id": "NAGljrhC5lTc",
        "colab_type": "code",
        "colab": {}
      },
      "source": [
        ""
      ],
      "execution_count": 0,
      "outputs": []
    },
    {
      "cell_type": "markdown",
      "metadata": {
        "id": "FR7MK7sW5ktb",
        "colab_type": "text"
      },
      "source": [
        "## Training"
      ]
    },
    {
      "cell_type": "code",
      "metadata": {
        "id": "a0mO6bI95pKG",
        "colab_type": "code",
        "colab": {}
      },
      "source": [
        ""
      ],
      "execution_count": 0,
      "outputs": []
    },
    {
      "cell_type": "markdown",
      "metadata": {
        "id": "3IgCAUWP5pa_",
        "colab_type": "text"
      },
      "source": [
        "## Test"
      ]
    },
    {
      "cell_type": "code",
      "metadata": {
        "id": "nX27L0-p5scY",
        "colab_type": "code",
        "colab": {}
      },
      "source": [
        ""
      ],
      "execution_count": 0,
      "outputs": []
    },
    {
      "cell_type": "markdown",
      "metadata": {
        "id": "iqKSEHq15swn",
        "colab_type": "text"
      },
      "source": [
        "## Conclusion"
      ]
    },
    {
      "cell_type": "code",
      "metadata": {
        "id": "my2hkugY5w_X",
        "colab_type": "code",
        "colab": {}
      },
      "source": [
        ""
      ],
      "execution_count": 0,
      "outputs": []
    }
  ]
}